{
 "cells": [
  {
   "cell_type": "code",
   "execution_count": null,
   "metadata": {},
   "outputs": [],
   "source": [
    "import pandas as pd\n",
    "import numpy as np"
   ]
  },
  {
   "cell_type": "code",
   "execution_count": null,
   "metadata": {},
   "outputs": [],
   "source": [
    "# file containing ground truth\n",
    "# choose {train.statement.jsonl, dev.statement.jsonl, test.statement.jsonl (in data/csqa/statement/)}\n",
    "truths = pd.read_json('train_statement.jsonl', lines=True)"
   ]
  },
  {
   "cell_type": "code",
   "execution_count": null,
   "metadata": {},
   "outputs": [],
   "source": [
    "ground_truth = dict({})"
   ]
  },
  {
   "cell_type": "code",
   "execution_count": null,
   "metadata": {},
   "outputs": [],
   "source": [
    "# for train_statement.jsonl & dev_statement.jsonl\n",
    "for i in range(truths.shape[0]):\n",
    "    ground_truth[truths.iloc[i,1]] = truths.iloc[i,0]"
   ]
  },
  {
   "cell_type": "code",
   "execution_count": null,
   "metadata": {},
   "outputs": [],
   "source": [
    "'''\n",
    "# for test_statement.jsonl\n",
    "for i in range(truths.shape[0]):\n",
    "    key = truths.iloc[i,0]\n",
    "    for idx, item in enumerate(truths.iloc[0,2]):\n",
    "        if item['label'] == True:\n",
    "            value = chr(65+idx)\n",
    "    ground_truth[key] = value\n",
    "'''"
   ]
  },
  {
   "cell_type": "code",
   "execution_count": null,
   "metadata": {},
   "outputs": [],
   "source": []
  },
  {
   "cell_type": "code",
   "execution_count": null,
   "metadata": {},
   "outputs": [],
   "source": [
    "# prediction file to analyse\n",
    "preds = pd.read_csv('test_e28_preds.csv',header=None, names=['id','label'])"
   ]
  },
  {
   "cell_type": "code",
   "execution_count": null,
   "metadata": {},
   "outputs": [],
   "source": [
    "wrong_preds = dict({})\n",
    "correct_preds = dict({})"
   ]
  },
  {
   "cell_type": "code",
   "execution_count": null,
   "metadata": {},
   "outputs": [],
   "source": [
    "for idx in range(preds.shape[0]):\n",
    "    qid = preds.iloc[idx,0]\n",
    "    assert qid in ground_truth\n",
    "    if preds.iloc[idx,1] == ground_truth[qid]:\n",
    "        correct_preds[qid] = ground_truth[qid]\n",
    "    else:\n",
    "        wrong_preds[qid] = (ground_truth[qid], preds.iloc[idx,1]) # (correct, prediction)"
   ]
  },
  {
   "cell_type": "code",
   "execution_count": null,
   "metadata": {},
   "outputs": [],
   "source": [
    "# accuracy (sanity check)\n",
    "len(correct_preds)/(len(wrong_preds)+len(correct_preds))"
   ]
  },
  {
   "cell_type": "code",
   "execution_count": null,
   "metadata": {},
   "outputs": [],
   "source": []
  },
  {
   "cell_type": "code",
   "execution_count": null,
   "metadata": {},
   "outputs": [],
   "source": [
    "post_question = pd.DataFrame(truths).set_index('id')"
   ]
  },
  {
   "cell_type": "code",
   "execution_count": null,
   "metadata": {},
   "outputs": [],
   "source": [
    "post_answer = pd.DataFrame.from_dict(wrong_preds, orient='index', columns=['truth', 'predicted'])"
   ]
  },
  {
   "cell_type": "code",
   "execution_count": null,
   "metadata": {},
   "outputs": [],
   "source": [
    "post = pd.merge(post_question, post_answer, left_index=True, right_index=True).drop(columns='answerKey')"
   ]
  },
  {
   "cell_type": "code",
   "execution_count": null,
   "metadata": {},
   "outputs": [],
   "source": [
    "post.head()"
   ]
  },
  {
   "cell_type": "code",
   "execution_count": null,
   "metadata": {},
   "outputs": [],
   "source": [
    "# print(post.to_json(orient='records', lines=True))"
   ]
  },
  {
   "cell_type": "code",
   "execution_count": null,
   "metadata": {},
   "outputs": [],
   "source": [
    "post.to_csv('pred4analysis.csv')"
   ]
  }
 ],
 "metadata": {
  "kernelspec": {
   "display_name": "Python 3",
   "language": "python",
   "name": "python3"
  },
  "language_info": {
   "codemirror_mode": {
    "name": "ipython",
    "version": 3
   },
   "file_extension": ".py",
   "mimetype": "text/x-python",
   "name": "python",
   "nbconvert_exporter": "python",
   "pygments_lexer": "ipython3",
   "version": "3.7.7"
  }
 },
 "nbformat": 4,
 "nbformat_minor": 4
}
